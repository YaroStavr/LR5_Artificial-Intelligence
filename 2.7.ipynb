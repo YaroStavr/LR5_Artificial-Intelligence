{
 "cells": [
  {
   "cell_type": "code",
   "execution_count": 1,
   "id": "988a5537",
   "metadata": {},
   "outputs": [
    {
     "name": "stdout",
     "output_type": "stream",
     "text": [
      "x = {'l', 'm', 'b', 'g', 'u', 'f', 'h'}\n",
      "y = {'m', 'o', 'f'}\n"
     ]
    }
   ],
   "source": [
    "\"\"\"\n",
    "Определить результат выполнения операций над множествами. Считать элементы множества строками. Проверить результаты\n",
    "вручную. Номер варианта задания необходимо получить у преподавателя.\n",
    "\"\"\"\n",
    "if __name__ == \"__main__\":\n",
    "    # Универсальное множество\n",
    "    u = set(\"abcdefghijklmnopqrstuvwxyz\")\n",
    "    a = {\"b\", \"f\", \"g\", \"m\", \"o\"}\n",
    "    b = {\"b\", \"g\", \"h\", \"l\", \"u\"}\n",
    "    c = {\"e\", \"f\", \"m\"}\n",
    "    d = {\"e\", \"g\", \"l\", \"p\",\"q\",\"u\",\"v\"}\n",
    "    x = (a.intersection(c)).union(b)\n",
    "    print(f\"x = {x}\")\n",
    "    # Дополнения множеств\n",
    "    bn = u.difference(b)\n",
    "    y = (a.intersection(bn)).union(c.difference(d))\n",
    "    print(f\"y = {y}\")"
   ]
  },
  {
   "cell_type": "code",
   "execution_count": null,
   "id": "f04d4454",
   "metadata": {},
   "outputs": [],
   "source": []
  }
 ],
 "metadata": {
  "kernelspec": {
   "display_name": "Python 3 (ipykernel)",
   "language": "python",
   "name": "python3"
  },
  "language_info": {
   "codemirror_mode": {
    "name": "ipython",
    "version": 3
   },
   "file_extension": ".py",
   "mimetype": "text/x-python",
   "name": "python",
   "nbconvert_exporter": "python",
   "pygments_lexer": "ipython3",
   "version": "3.9.7"
  }
 },
 "nbformat": 4,
 "nbformat_minor": 5
}
